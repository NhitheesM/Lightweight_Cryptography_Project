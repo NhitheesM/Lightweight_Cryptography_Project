{
 "cells": [
  {
   "cell_type": "code",
   "execution_count": null,
   "id": "74619033",
   "metadata": {},
   "outputs": [
    {
     "ename": "",
     "evalue": "",
     "output_type": "error",
     "traceback": [
      "\u001b[1;31mFailed to start the Kernel. \n",
      "\u001b[1;31mUnable to start Kernel 'Python 3.10.11' due to connection timeout. \n",
      "\u001b[1;31mView Jupyter <a href='command:jupyter.viewOutput'>log</a> for further details."
     ]
    }
   ],
   "source": [
    "import random\n",
    "hex_to_bin = {'0': \"0000\", '1': \"0001\", '2': \"0010\", '3': \"0011\", '4': \"0100\", '5': \"0101\", '6': \"0110\", '7': \"0111\",\n",
    "                  '8': \"1000\", '9': \"1001\", 'a': \"1010\", 'b': \"1011\", 'c': \"1100\", 'd': \"1101\", 'e': \"1110\", 'f': \"1111\"}\n",
    "bin_to_hex = {\"0000\": '0', \"0001\": '1', \"0010\": '2', \"0011\": '3', \"0100\": '4', \"0101\": '5', \"0110\": '6', \"0111\": '7',\n",
    "              \"1000\": '8', \"1001\": '9', \"1010\": 'a', \"1011\": 'b', \"1100\": 'c', \"1101\": 'd', \"1110\": 'e', \"1111\": 'f'}"
   ]
  },
  {
   "cell_type": "code",
   "execution_count": 75,
   "id": "c9d0c1d0",
   "metadata": {},
   "outputs": [],
   "source": [
    "def kcbingenerator():\n",
    "    l = []\n",
    "    for i in range(10):\n",
    "        l.append(str(i))\n",
    "    # print(l)\n",
    "    for i in range(97, 103):\n",
    "        l.append(chr(i))\n",
    "\n",
    "    key = \"\"\n",
    "    for i in range(32):\n",
    "        a = random.randint(0, len(l)-1)\n",
    "        key += l[a]\n",
    "\n",
    "    l0 = key[:16]  # L0\n",
    "    r0 = key[16:]  # R0\n",
    "\n",
    "    binkey = ''  # Binary Cipher Key\n",
    "    for i in r0:\n",
    "        binkey += hex_to_bin[i]\n",
    "\n",
    "    crr = \"\"\n",
    "    crl = \"\"\n",
    "    for i in binkey:\n",
    "        if(i == '0'):\n",
    "            crr += '1'\n",
    "            crl += '1'\n",
    "        else:\n",
    "            crr += '0'\n",
    "            crl += '1'\n",
    "\n",
    "    Kcbin = binkey+crr  # Kc Encryption Key in Binary\n",
    "    Ksbin = crl+crr  # Ks Decryption Key to be sent Binary\n",
    "    Kc = \"\"  # Kc Hexadecimal\n",
    "    for i in range(0, len(Kcbin), 4):\n",
    "        b = Kcbin[i:i+4]\n",
    "        Kc += bin_to_hex[b]\n",
    "\n",
    "    Ks = \"\"  # Ks hexadecimal\n",
    "    for i in range(0, len(Ksbin), 4):\n",
    "        b = Ksbin[i:i+4]\n",
    "        Ks += bin_to_hex[b]\n",
    "    return Kcbin,Ksbin\n"
   ]
  },
  {
   "cell_type": "code",
   "execution_count": 76,
   "id": "66425153",
   "metadata": {},
   "outputs": [],
   "source": [
    "def xor(a,b,c,d):\n",
    "    r=''\n",
    "    for i in range(32):\n",
    "        r+=str(int(a[i])^int(b[i])^int(c[i])^int(d[i]))\n",
    "    return r"
   ]
  },
  {
   "cell_type": "code",
   "execution_count": 77,
   "id": "a3274d77",
   "metadata": {},
   "outputs": [],
   "source": [
    "def xor2(a,b):\n",
    "    r=''\n",
    "    for i in range(len(a)):\n",
    "        r+=str(int(a[i])^int(b[i]))\n",
    "    return r"
   ]
  },
  {
   "cell_type": "code",
   "execution_count": 78,
   "id": "10010828",
   "metadata": {},
   "outputs": [],
   "source": [
    "def xnor(a,b):\n",
    "    c = xor2(a,b)\n",
    "    d=''\n",
    "    for i in c:\n",
    "        if(i=='0'):\n",
    "            d+='1'\n",
    "        else:\n",
    "            d+='0'\n",
    "    return d"
   ]
  },
  {
   "cell_type": "code",
   "execution_count": 79,
   "id": "43d6cb91",
   "metadata": {},
   "outputs": [],
   "source": [
    "def shiftrows(l):\n",
    "\n",
    "    bigst = ''\n",
    "    for i in range(0, 16, 4):\n",
    "        temp = l[i]\n",
    "        j = i+1\n",
    "        st = ''\n",
    "        while(j < i+4):\n",
    "            st = st+l[j]\n",
    "            j = j+1\n",
    "        st = st+temp\n",
    "        bigst = bigst+st\n",
    "    return bigst"
   ]
  },
  {
   "cell_type": "code",
   "execution_count": 80,
   "id": "a9a79724",
   "metadata": {},
   "outputs": [],
   "source": [
    "pi_Q = {0: 9, 1: 14, 2: 5, 3: 6, 4: 10, 5: 2, 6: 3, 7: 12,\n",
    "        8: 15, 9: 0, 10: 4, 11: 13, 12: 7, 13: 11, 14: 1, 15: 8}\n",
    "pi_P = {0: 3, 1: 15, 2: 14, 3: 0, 4: 5, 5: 4, 6: 11, 7: 12, 8: 13, 9: 10, 10: 9, 11: 6, 12: 7, 13: 8, 14: 2, 15: 1,\n",
    "        }\n",
    "\n",
    "bin_to_dec = {0: \"0000\", 1: \"0001\", 2: \"0010\", 3: \"0011\", 4: \"0100\", 5: \"0101\", 6: \"0110\", 7: \"0111\",\n",
    "              8: \"1000\", 9: \"1001\", 10: \"1010\", 11: \"1011\", 12: \"1100\", 13: \"1101\", 14: \"1110\", 15: \"1111\"}"
   ]
  },
  {
   "cell_type": "code",
   "execution_count": 81,
   "id": "30769939",
   "metadata": {},
   "outputs": [],
   "source": [
    "def substitutionQ(pt):\n",
    "    re = \"\"\n",
    "    k = int(pt, 2)\n",
    "    re += bin_to_dec[pi_Q[k]]\n",
    "    return re\n",
    "def substitutionP(pt):\n",
    "    re = \"\"\n",
    "    k = int(pt, 2)\n",
    "    re += bin_to_dec[pi_P[k]]\n",
    "    return re"
   ]
  },
  {
   "cell_type": "code",
   "execution_count": 82,
   "id": "cb5b641e",
   "metadata": {},
   "outputs": [],
   "source": [
    "def Ffunction(p):\n",
    "    for i in range(3):\n",
    "        res=''\n",
    "        for j in range(0,16,4):\n",
    "\n",
    "            if(j%8==0):\n",
    "                if(i!=1):\n",
    "                    res+=substitutionP(p[j:j+4])\n",
    "                else:\n",
    "                    res+=substitutionQ(p[j:j+4])\n",
    "            else:\n",
    "                if(i!=1):\n",
    "                    res+=substitutionQ(p[j:j+4])\n",
    "                else:\n",
    "                    res+=substitutionP(p[j:j+4])\n",
    "       \n",
    "        t1 = res[0:4]\n",
    "        t2 = res[4:8]\n",
    "        t3 = res[8:12]\n",
    "        t4 = res[12:16]\n",
    "        if(i!=2):\n",
    "            T11 = t1[:2]+t2[:2]\n",
    "            T21 = t1[2:]+t3[:2]\n",
    "            T31 = t2[2:]+t4[:2]\n",
    "            T41 = t3[2:]+t4[2:]\n",
    "            p = T11+T21+T31+T41\n",
    "        else:\n",
    "            p = res\n",
    "        \n",
    "    return p"
   ]
  },
  {
   "cell_type": "code",
   "execution_count": 83,
   "id": "f72c2ece",
   "metadata": {},
   "outputs": [],
   "source": [
    "def railfence(text):\n",
    "    key=2\n",
    "    fence = [[None] * len(text) for i in range(key)]\n",
    "    rails = list(range(key - 1)) + list(range(key - 1, 0, -1))\n",
    "\n",
    "        # Write the characters in the fence pattern\n",
    "    for i, char in enumerate(text):\n",
    "        fence[rails[i % len(rails)]][i] = char\n",
    "\n",
    "        # Read off the fence pattern\n",
    "    result = []\n",
    "    for rail in fence:\n",
    "        result += [char for char in rail if char is not None]\n",
    "\n",
    "    return ''.join(result)\n",
    "\n"
   ]
  },
  {
   "cell_type": "code",
   "execution_count": 84,
   "id": "de0c5c5e",
   "metadata": {},
   "outputs": [],
   "source": [
    "def transposition(p):\n",
    "    matrix = [[p[i+j*4] for i in range(4)] for j in range(4)]\n",
    "    trans=''\n",
    "    for i in range(4):\n",
    "        l=''\n",
    "        for j in range(4):\n",
    "            l+=matrix[j][i]\n",
    "        trans+=l\n",
    "    return trans"
   ]
  },
  {
   "cell_type": "code",
   "execution_count": 85,
   "id": "77d1a086",
   "metadata": {},
   "outputs": [],
   "source": [
    "def keygenerator(kc):\n",
    "    keys = []\n",
    "    for i in range(0, 128, 16):\n",
    "        k = kc[i:i+16]\n",
    "        keys.append(k)\n",
    "    \n",
    "    for i in range(len(keys)):\n",
    "        keys[i] = shiftrows(keys[i])\n",
    "    \n",
    "    ffunced = []\n",
    "    for i in keys:\n",
    "        ffunced.append(Ffunction(i))\n",
    "    \n",
    "    tranrail=[]\n",
    "    for i in range(8):\n",
    "        if(i in [1,2,5,6]):\n",
    "            tranrail.append(railfence(ffunced[i]))\n",
    "        else:\n",
    "            tranrail.append(transposition(ffunced[i]))\n",
    "    FinalKeys=[]\n",
    "    for i in range(0,8,2):\n",
    "        l=''\n",
    "        l=tranrail[i]+tranrail[i+1]\n",
    "        FinalKeys.append(l)\n",
    "    key5 = xor(FinalKeys[0],FinalKeys[1],FinalKeys[2],FinalKeys[3])\n",
    "    FinalKeys.append(key5)\n",
    "    return FinalKeys"
   ]
  },
  {
   "cell_type": "code",
   "execution_count": 198,
   "id": "d0872164",
   "metadata": {},
   "outputs": [],
   "source": [
    "def padding(binval):\n",
    "    padded=[]\n",
    "    if(len(binval)<128):\n",
    "        x = 128-len(binval)\n",
    "        newbinval = binval+'0'*x\n",
    "        padded.append(newbinval)\n",
    "    elif(len(binval)==128):\n",
    "        padded.append(binval)\n",
    "    else:\n",
    "        if(len(binval)%128==0):\n",
    "            for j in range(0,len(binval),128):\n",
    "                t = binval[j:j+128]\n",
    "                padded.append(t)\n",
    "        else:\n",
    "            z = len(binval)%128\n",
    "            rem = 128-z\n",
    "            binval = binval+'0'*rem\n",
    "            for j in range(0,len(binval),128):\n",
    "                t = binval[j:j+128]\n",
    "                padded.append(t)\n",
    "    return padded"
   ]
  },
  {
   "cell_type": "code",
   "execution_count": 86,
   "id": "fa625797",
   "metadata": {},
   "outputs": [],
   "source": [
    "def decryptionkey(x):\n",
    "    l0 = x[:64]\n",
    "    r0 = x[64:]\n",
    "    k1 = xor2(l0,r0)\n",
    "    dec_key = r0+k1\n",
    "    return dec_key"
   ]
  },
  {
   "cell_type": "code",
   "execution_count": 87,
   "id": "cabcaefd",
   "metadata": {},
   "outputs": [
    {
     "name": "stdout",
     "output_type": "stream",
     "text": [
      "Kc:  01110110100100001000101000011011101110110101001000100001101011001000100101101111011101011110010001000100101011011101111001010011\n",
      "Ks:  11111111111111111111111111111111111111111111111111111111111111111000100101101111011101011110010001000100101011011101111001010011\n"
     ]
    }
   ],
   "source": [
    "x1,x2 = kcbingenerator()\n",
    "print(\"Kc: \",x1)\n",
    "print(\"Ks: \",x2)\n"
   ]
  },
  {
   "cell_type": "code",
   "execution_count": 88,
   "id": "5305581f",
   "metadata": {},
   "outputs": [],
   "source": [
    "dk = decryptionkey(x2)"
   ]
  },
  {
   "cell_type": "code",
   "execution_count": 89,
   "id": "aa872438",
   "metadata": {},
   "outputs": [
    {
     "data": {
      "text/plain": [
       "'10001001011011110111010111100100010001001010110111011110010100110111011010010000100010100001101110111011010100100010000110101100'"
      ]
     },
     "execution_count": 89,
     "metadata": {},
     "output_type": "execute_result"
    }
   ],
   "source": [
    "dk"
   ]
  },
  {
   "cell_type": "code",
   "execution_count": 90,
   "id": "cacd58e5",
   "metadata": {},
   "outputs": [],
   "source": [
    "EncryptionRoundKeys = keygenerator(x1)"
   ]
  },
  {
   "cell_type": "code",
   "execution_count": 91,
   "id": "df78b13d",
   "metadata": {},
   "outputs": [],
   "source": [
    "def decryptionkeygenerator(key):\n",
    "    DecKeys = keygenerator(key)\n",
    "    print(DecKeys)\n",
    "    DecryptionRoundKeys = []\n",
    "    DecryptionRoundKeys.append(DecKeys[4])\n",
    "    DecryptionRoundKeys.append(DecKeys[0])\n",
    "    DecryptionRoundKeys.append(DecKeys[3])\n",
    "    DecryptionRoundKeys.append(DecKeys[2])\n",
    "    DecryptionRoundKeys.append(DecKeys[1])\n",
    "    return DecryptionRoundKeys"
   ]
  },
  {
   "cell_type": "code",
   "execution_count": 92,
   "id": "41f29af1",
   "metadata": {},
   "outputs": [
    {
     "name": "stdout",
     "output_type": "stream",
     "text": [
      "['11100011011111100100001100001111', '11000001001100101110101111010101', '01110111010011000010100111001000', '01111010101001101001110110101011', '00101111101001100001110010111001']\n"
     ]
    }
   ],
   "source": [
    "DecryptionRoundKeys = decryptionkeygenerator(dk)"
   ]
  },
  {
   "cell_type": "code",
   "execution_count": 93,
   "id": "0b3a0f32",
   "metadata": {},
   "outputs": [
    {
     "name": "stdout",
     "output_type": "stream",
     "text": [
      "Round Key  0  :  01110111010011000010100111001000\n",
      "Round Key  1  :  01111010101001101001110110101011\n",
      "Round Key  2  :  11100011011111100100001100001111\n",
      "Round Key  3  :  11000001001100101110101111010101\n",
      "Round Key  4  :  00101111101001100001110010111001\n"
     ]
    }
   ],
   "source": [
    "for i in range(len(EncryptionRoundKeys)):\n",
    "    print(\"Round Key \",i,\" : \",EncryptionRoundKeys[i])"
   ]
  },
  {
   "cell_type": "code",
   "execution_count": 94,
   "id": "4586afde",
   "metadata": {},
   "outputs": [
    {
     "data": {
      "text/plain": [
       "['00101111101001100001110010111001',\n",
       " '11100011011111100100001100001111',\n",
       " '01111010101001101001110110101011',\n",
       " '01110111010011000010100111001000',\n",
       " '11000001001100101110101111010101']"
      ]
     },
     "execution_count": 94,
     "metadata": {},
     "output_type": "execute_result"
    }
   ],
   "source": [
    "DecryptionRoundKeys"
   ]
  },
  {
   "cell_type": "code",
   "execution_count": 95,
   "id": "c16eaec7",
   "metadata": {},
   "outputs": [],
   "source": [
    "Deckey = []\n",
    "Deckey.append(DecryptionRoundKeys[0])\n",
    "Deckey.append(DecryptionRoundKeys[4])\n",
    "Deckey.append(DecryptionRoundKeys[1])\n",
    "Deckey.append(DecryptionRoundKeys[2])\n",
    "Deckey.append(DecryptionRoundKeys[3])"
   ]
  },
  {
   "cell_type": "code",
   "execution_count": 96,
   "id": "80d40a0b",
   "metadata": {},
   "outputs": [
    {
     "name": "stdout",
     "output_type": "stream",
     "text": [
      "Round Key  0  :  00101111101001100001110010111001\n",
      "Round Key  1  :  11000001001100101110101111010101\n",
      "Round Key  2  :  11100011011111100100001100001111\n",
      "Round Key  3  :  01111010101001101001110110101011\n",
      "Round Key  4  :  01110111010011000010100111001000\n"
     ]
    }
   ],
   "source": [
    "for i in range(len(DecryptionRoundKeys)):\n",
    "    print(\"Round Key \",i,\" : \",Deckey[i])"
   ]
  },
  {
   "cell_type": "code",
   "execution_count": 101,
   "id": "020d7ab7",
   "metadata": {},
   "outputs": [
    {
     "data": {
      "text/plain": [
       "'01110111010011000010100111001000'"
      ]
     },
     "execution_count": 101,
     "metadata": {},
     "output_type": "execute_result"
    }
   ],
   "source": [
    "Deckey[4]"
   ]
  },
  {
   "cell_type": "code",
   "execution_count": 207,
   "id": "acd6d417",
   "metadata": {},
   "outputs": [],
   "source": [
    "def encryption(pt,j):\n",
    "    P = []\n",
    "    Cipher = ''\n",
    "    for i in range(0,len(pt),32):\n",
    "        P.append(pt[i:i+32])\n",
    "    R011 = xnor(P[0],EncryptionRoundKeys[j])\n",
    "    C1 = R011 #Cipher 1\n",
    "    EFL1 = Ffunction(R011[:16])+Ffunction(R011[16:])\n",
    "    Cipher+=R011\n",
    "    R014 = xnor(P[3],EncryptionRoundKeys[j])\n",
    "    C4 = R014 #Cipher 4\n",
    "    EFR1 = Ffunction(R014[:16])+Ffunction(R014[16:])\n",
    "    C2 = xor2(EFL1,P[2])\n",
    "    Cipher+=C2\n",
    "    C3 = xor2(EFR1,P[1])\n",
    "    Cipher+=C3\n",
    "    Cipher+=C4\n",
    "    return Cipher"
   ]
  },
  {
   "cell_type": "code",
   "execution_count": 136,
   "id": "e00b2567",
   "metadata": {},
   "outputs": [
    {
     "name": "stdout",
     "output_type": "stream",
     "text": [
      "00100100110001101001010011011100\n"
     ]
    }
   ],
   "source": [
    "#listofencryption = encryption('01100100011010000110111101101110011010010010000001100110011010010110111001101001011100110110100001100101011100110010000001101111')"
   ]
  },
  {
   "cell_type": "code",
   "execution_count": 221,
   "id": "5431a6fd",
   "metadata": {},
   "outputs": [],
   "source": [
    "def decryption(ct):\n",
    "    l = []\n",
    "    for i in range(0,len(ct),32):\n",
    "        l.append(ct[i:i+32])\n",
    "    Plaintext=''\n",
    "    P1 = xnor(l[0],Deckey[4])\n",
    "    Plaintext+=P1\n",
    "    DFL1 = Ffunction(l[0][:16])+Ffunction(l[0][16:])\n",
    "    P3 = xor2(DFL1,l[1])\n",
    "    P4 = xnor(l[3],Deckey[4])\n",
    "    DFR1 = Ffunction(l[3][:16])+Ffunction(l[3][16:])\n",
    "    P2 = xor2(DFR1,l[2])\n",
    "    Plaintext+=P2\n",
    "    Plaintext+=P3\n",
    "    Plaintext+=P4\n",
    "    return Plaintext\n",
    "    "
   ]
  },
  {
   "cell_type": "code",
   "execution_count": 193,
   "id": "af9162fd",
   "metadata": {},
   "outputs": [
    {
     "name": "stdout",
     "output_type": "stream",
     "text": [
      "00100100110001101001010011011100\n"
     ]
    }
   ],
   "source": [
    "#y = decryption(listofencryption)"
   ]
  },
  {
   "cell_type": "code",
   "execution_count": 194,
   "id": "481520e9",
   "metadata": {},
   "outputs": [
    {
     "data": {
      "text/plain": [
       "['01100100011010000110111101101110',\n",
       " '01101001001000000110011001101001',\n",
       " '01101110011010010111001101101000',\n",
       " '01100101011100110010000001101111']"
      ]
     },
     "execution_count": 194,
     "metadata": {},
     "output_type": "execute_result"
    }
   ],
   "source": [
    "#y"
   ]
  },
  {
   "cell_type": "code",
   "execution_count": 195,
   "id": "c2e2689e",
   "metadata": {},
   "outputs": [
    {
     "data": {
      "text/plain": [
       "'01100100011010000110111101101110011010010010000001100110011010010110111001101001011100110110100001100101011100110010000001101111'"
      ]
     },
     "execution_count": 195,
     "metadata": {},
     "output_type": "execute_result"
    }
   ],
   "source": [
    "#ppp = ''\n",
    "#for i in y:\n",
    " #   ppp+=i\n",
    "#ppp"
   ]
  },
  {
   "cell_type": "code",
   "execution_count": 196,
   "id": "343263ce",
   "metadata": {},
   "outputs": [],
   "source": [
    "#a = xor2(ppp,'01100100011010000110111101101110011010010010000001100110011010010110111001101001011100110110100001100101011100110010000001101111')"
   ]
  },
  {
   "cell_type": "code",
   "execution_count": 197,
   "id": "d8ab4ed9",
   "metadata": {},
   "outputs": [
    {
     "data": {
      "text/plain": [
       "'00000000000000000000000000000000000000000000000000000000000000000000000000000000000000000000000000000000000000000000000000000000'"
      ]
     },
     "execution_count": 197,
     "metadata": {},
     "output_type": "execute_result"
    }
   ],
   "source": [
    "#a"
   ]
  },
  {
   "cell_type": "code",
   "execution_count": 191,
   "id": "2030b2e8",
   "metadata": {},
   "outputs": [
    {
     "data": {
      "text/plain": [
       "34"
      ]
     },
     "execution_count": 191,
     "metadata": {},
     "output_type": "execute_result"
    }
   ],
   "source": [
    "#len('0000000000000000000000000000000000')"
   ]
  },
  {
   "cell_type": "code",
   "execution_count": 211,
   "id": "46825286",
   "metadata": {},
   "outputs": [],
   "source": [
    "def Encryption(plaintext):\n",
    "    Encrypted = ''\n",
    "    x = plaintext.encode('utf-8')\n",
    "    hexplaintext = x.hex()\n",
    "    binplaintext=''\n",
    "    for i in hexplaintext:\n",
    "        binplaintext+=hex_to_bin[i]\n",
    "    paddedlist = padding(binplaintext)\n",
    "    for i in paddedlist:\n",
    "        for j in range(1):\n",
    "            txt = encryption(i,j)\n",
    "        Encrypted+=txt\n",
    "    return Encrypted"
   ]
  },
  {
   "cell_type": "code",
   "execution_count": 222,
   "id": "685dd9bc",
   "metadata": {},
   "outputs": [],
   "source": [
    "def Decryption(ciphertext):\n",
    "    listofenc = []\n",
    "    for i in range(0,len(ciphertext),128):\n",
    "        listofenc.append(ciphertext[i:i+128])\n",
    "    Plaintext = ''\n",
    "    for i in listofenc:\n",
    "        txt = decryption(i)\n",
    "        Plaintext+=txt\n",
    "    hexpt=''\n",
    "    for i in range(0,len(Plaintext),4):\n",
    "        hexpt+=bin_to_hex[Plaintext[i:i+4]]\n",
    "    finalplain = bytes.fromhex(hexpt).decode('utf-8')\n",
    "    return finalplain"
   ]
  },
  {
   "cell_type": "code",
   "execution_count": 218,
   "id": "74671e7f",
   "metadata": {},
   "outputs": [],
   "source": [
    "etext = Encryption(\"dhoni finishes off in style india lifts the world cup after 28 years\")"
   ]
  },
  {
   "cell_type": "code",
   "execution_count": 232,
   "id": "b88fdfb5",
   "metadata": {},
   "outputs": [
    {
     "name": "stdout",
     "output_type": "stream",
     "text": [
      "ecdbb9594aafe7b4d3bac550edc0f658eed5f65eeaa8c728de799719e1ddb25ee993ba5ee8d8814cda0b352cffdca45bec93b54250deed89808fc391ba8bf64eedd2a444b3c84ee6a5eb717688b3d637\n",
      "ìÛ¹YJ¯ç´ÓºÅPíÀöXîÕö^ê¨Ç(Þy\u0019áÝ²^éº^èØLÚ\u000b\n",
      "5,ÿÜ¤[ìµBPÞíÃºöNíÒ¤D³ÈNæ¥ëqv³Ö7\n",
      "b'\\xec\\xdb\\xb9YJ\\xaf\\xe7\\xb4\\xd3\\xba\\xc5P\\xed\\xc0\\xf6X\\xee\\xd5\\xf6^\\xea\\xa8\\xc7(\\xdey\\x97\\x19\\xe1\\xdd\\xb2^\\xe9\\x93\\xba^\\xe8\\xd8\\x81L\\xda\\x0b5,\\xff\\xdc\\xa4[\\xec\\x93\\xb5BP\\xde\\xed\\x89\\x80\\x8f\\xc3\\x91\\xba\\x8b\\xf6N\\xed\\xd2\\xa4D\\xb3\\xc8N\\xe6\\xa5\\xebqv\\x88\\xb3\\xd67'\n",
      "ecdbb9594aafe7b4d3bac550edc0f658eed5f65eeaa8c728de799719e1ddb25ee993ba5ee8d8814cda0b352cffdca45bec93b54250deed89808fc391ba8bf64eedd2a444b3c84ee6a5eb717688b3d637\n"
     ]
    }
   ],
   "source": [
    "hexpt=''\n",
    "for i in range(0,len(etext),4):\n",
    "    hexpt+=bin_to_hex[etext[i:i+4]]\n",
    "print(hexpt)\n",
    "finalplain = bytes.fromhex(hexpt).decode('latin-1')\n",
    "print(finalplain)\n",
    "f = finalplain.encode('latin-1')\n",
    "print(f)\n",
    "l = f.hex()\n",
    "print(l)"
   ]
  },
  {
   "cell_type": "code",
   "execution_count": 219,
   "id": "7f210485",
   "metadata": {},
   "outputs": [
    {
     "data": {
      "text/plain": [
       "640"
      ]
     },
     "execution_count": 219,
     "metadata": {},
     "output_type": "execute_result"
    }
   ],
   "source": [
    "len(etext)"
   ]
  },
  {
   "cell_type": "code",
   "execution_count": 223,
   "id": "c9e250af",
   "metadata": {},
   "outputs": [],
   "source": [
    "ptext = Decryption(etext)"
   ]
  },
  {
   "cell_type": "code",
   "execution_count": null,
   "id": "1cd1d36d",
   "metadata": {},
   "outputs": [
    {
     "ename": "",
     "evalue": "",
     "output_type": "error",
     "traceback": [
      "\u001b[1;31mRunning cells with 'c:\\Users\\dell\\AppData\\Local\\Microsoft\\WindowsApps\\python3.10.exe' requires the ipykernel package.\n",
      "\u001b[1;31mRun the following command to install 'ipykernel' into the Python environment. \n",
      "\u001b[1;31mCommand: 'c:/Users/dell/AppData/Local/Microsoft/WindowsApps/python3.10.exe -m pip install ipykernel -U --user --force-reinstall'"
     ]
    }
   ],
   "source": [
    "ptext"
   ]
  },
  {
   "cell_type": "code",
   "execution_count": null,
   "id": "f1812ab9",
   "metadata": {},
   "outputs": [],
   "source": []
  }
 ],
 "metadata": {
  "kernelspec": {
   "display_name": "Python 3",
   "language": "python",
   "name": "python3"
  },
  "language_info": {
   "codemirror_mode": {
    "name": "ipython",
    "version": 3
   },
   "file_extension": ".py",
   "mimetype": "text/x-python",
   "name": "python",
   "nbconvert_exporter": "python",
   "pygments_lexer": "ipython3",
   "version": "3.10.11"
  }
 },
 "nbformat": 4,
 "nbformat_minor": 5
}
